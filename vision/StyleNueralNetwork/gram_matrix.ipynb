{
 "cells": [
  {
   "cell_type": "code",
   "execution_count": 2,
   "id": "d177e039",
   "metadata": {},
   "outputs": [],
   "source": [
    "from loss import StyleLoss"
   ]
  },
  {
   "cell_type": "code",
   "execution_count": 4,
   "id": "e50aba3c",
   "metadata": {},
   "outputs": [],
   "source": [
    "style_loss = StyleLoss()\n",
    "import torch \n",
    "feature_map = torch.ones(1, 3, 256, 256)\n",
    "G = style_loss.gram_matrix(feature_map)"
   ]
  },
  {
   "cell_type": "code",
   "execution_count": 6,
   "id": "843cf515",
   "metadata": {},
   "outputs": [
    {
     "data": {
      "text/plain": [
       "tensor([[[65536., 65536., 65536.],\n",
       "         [65536., 65536., 65536.],\n",
       "         [65536., 65536., 65536.]]])"
      ]
     },
     "execution_count": 6,
     "metadata": {},
     "output_type": "execute_result"
    }
   ],
   "source": [
    "G.shape\n",
    "G*3*256*256"
   ]
  },
  {
   "cell_type": "code",
   "execution_count": 7,
   "id": "0e655bb6",
   "metadata": {},
   "outputs": [
    {
     "data": {
      "text/plain": [
       "65536"
      ]
     },
     "execution_count": 7,
     "metadata": {},
     "output_type": "execute_result"
    }
   ],
   "source": [
    "256*256"
   ]
  },
  {
   "cell_type": "code",
   "execution_count": 13,
   "id": "62904d77",
   "metadata": {},
   "outputs": [],
   "source": [
    "x = torch.ones(1, 3, 256, 256)\n",
    "y = torch.zeros(1, 3, 256, 256)\n"
   ]
  },
  {
   "cell_type": "code",
   "execution_count": 14,
   "id": "c387305d",
   "metadata": {},
   "outputs": [],
   "source": [
    "style_loss(x, y)"
   ]
  }
 ],
 "metadata": {
  "kernelspec": {
   "display_name": "base",
   "language": "python",
   "name": "python3"
  },
  "language_info": {
   "codemirror_mode": {
    "name": "ipython",
    "version": 3
   },
   "file_extension": ".py",
   "mimetype": "text/x-python",
   "name": "python",
   "nbconvert_exporter": "python",
   "pygments_lexer": "ipython3",
   "version": "3.12.7"
  }
 },
 "nbformat": 4,
 "nbformat_minor": 5
}
